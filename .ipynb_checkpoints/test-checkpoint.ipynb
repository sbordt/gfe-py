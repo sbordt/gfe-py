{
 "cells": [
  {
   "cell_type": "markdown",
   "metadata": {
    "collapsed": true
   },
   "source": [
    "## Use the balanced panel from Acemoglou on Income & Democracy to test our implementation of the gfe estimator, comparing with the results from Bonhomme & Manresa"
   ]
  },
  {
   "cell_type": "code",
   "execution_count": 1,
   "metadata": {
    "collapsed": true
   },
   "outputs": [],
   "source": [
    "import pandas\n",
    "\n",
    "execfile('gfe.py')"
   ]
  },
  {
   "cell_type": "code",
   "execution_count": 4,
   "metadata": {
    "collapsed": false
   },
   "outputs": [
    {
     "name": "stdout",
     "output_type": "stream",
     "text": [
      "['code', 'country', 'age_midage', 'age_old', 'age_veryold', 'age_veryyoung', 'age_young', 'code_numeric', 'education', 'fhpolrigaug', 'laborshare', 'lpop', 'lrgdpch', 'medage', 'nsave', 'polity4', 'socialist', 'year', 'year_numeric', 'sample', 'worldincome', 'worlddemocracy', 'samplebalancefe', 'samplebalancegmm', 'yr1', 'yr2', 'yr3', 'yr4', 'yr5', 'yr6', 'yr7', 'yr8', 'yr9', 'yr10', 'yr11', 'cd1', 'cd2', 'cd3', 'cd4', 'cd5', 'cd6', 'cd7', 'cd8', 'cd9', 'cd10', 'cd11', 'cd12', 'cd13', 'cd14', 'cd15', 'cd16', 'cd17', 'cd18', 'cd19', 'cd20', 'cd21', 'cd22', 'cd23', 'cd24', 'cd25', 'cd26', 'cd27', 'cd28', 'cd29', 'cd30', 'cd31', 'cd32', 'cd33', 'cd34', 'cd35', 'cd36', 'cd37', 'cd38', 'cd39', 'cd40', 'cd41', 'cd42', 'cd43', 'cd44', 'cd45', 'cd46', 'cd47', 'cd48', 'cd49', 'cd50', 'cd51', 'cd52', 'cd53', 'cd54', 'cd55', 'cd56', 'cd57', 'cd58', 'cd59', 'cd60', 'cd61', 'cd62', 'cd63', 'cd64', 'cd65', 'cd66', 'cd67', 'cd68', 'cd69', 'cd70', 'cd71', 'cd72', 'cd73', 'cd74', 'cd75', 'cd76', 'cd77', 'cd78', 'cd79', 'cd80', 'cd81', 'cd82', 'cd83', 'cd84', 'cd85', 'cd86', 'cd87', 'cd88', 'cd89', 'cd90', 'cd91', 'cd92', 'cd93', 'cd94', 'cd95', 'cd96', 'cd97', 'cd98', 'cd99', 'cd100', 'cd101', 'cd102', 'cd103', 'cd104', 'cd105', 'cd106', 'cd107', 'cd108', 'cd109', 'cd110', 'cd111', 'cd112', 'cd113', 'cd114', 'cd115', 'cd116', 'cd117', 'cd118', 'cd119', 'cd120', 'cd121', 'cd122', 'cd123', 'cd124', 'cd125', 'cd126', 'cd127', 'cd128', 'cd129', 'cd130', 'cd131', 'cd132', 'cd133', 'cd134', 'cd135', 'cd136', 'cd137', 'cd138', 'cd139', 'cd140', 'cd141', 'cd142', 'cd143', 'cd144', 'cd145', 'cd146', 'cd147', 'cd148', 'cd149', 'cd150', 'cd151', 'cd152', 'cd153', 'cd154', 'cd155', 'cd156', 'cd157', 'cd158', 'cd159', 'cd160', 'cd161', 'cd162', 'cd163', 'cd164', 'cd165', 'cd166', 'cd167', 'cd168', 'cd169', 'cd170', 'cd171', 'cd172', 'cd173', 'cd174', 'cd175', 'cd176', 'cd177', 'cd178', 'cd179', 'cd180', 'cd181', 'cd182', 'cd183', 'cd184', 'cd185', 'cd186', 'cd187', 'cd188', 'cd189', 'cd190', 'cd191', 'cd192', 'cd193', 'cd194', 'cd195', 'cd196', 'cd197', 'cd198', 'cd199', 'cd200', 'cd201', 'cd202', 'cd203', 'cd204', 'cd205', 'cd206', 'cd207', 'cd208', 'cd209', 'cd210', 'cd211', 'L_fhpolrigaug', 'L_lrgdpch']\n"
     ]
    }
   ],
   "source": [
    "balacedAcemoglou = pandas.read_csv('income_democracy.csv', sep=',')\n",
    "\n",
    "print list(balacedAcemoglou)"
   ]
  },
  {
   "cell_type": "markdown",
   "metadata": {},
   "source": [
    "## Homogeneous Coefficients"
   ]
  },
  {
   "cell_type": "code",
   "execution_count": 5,
   "metadata": {
    "collapsed": false
   },
   "outputs": [
    {
     "name": "stdout",
     "output_type": "stream",
     "text": [
      "14.5779007078\n",
      "14.3950654886\n",
      "14.3446800778\n",
      "14.3253403878\n",
      "14.3238764582\n",
      "14.3186667022\n",
      "Maximum number of iterations reached!\n"
     ]
    }
   ],
   "source": [
    "[beta, betaHet, alpha, fun, ass] = gfe(balacedAcemoglou[['fhpolrigaug']], balacedAcemoglou[['L_fhpolrigaug', 'L_lrgdpch']], None, 90, 7, 4)"
   ]
  },
  {
   "cell_type": "code",
   "execution_count": 6,
   "metadata": {
    "collapsed": false
   },
   "outputs": [
    {
     "name": "stdout",
     "output_type": "stream",
     "text": [
      "[ 0.30164072  0.08230328]\n",
      "[]\n"
     ]
    }
   ],
   "source": [
    "print beta\n",
    "print betaHet"
   ]
  },
  {
   "cell_type": "code",
   "execution_count": 15,
   "metadata": {
    "collapsed": false
   },
   "outputs": [
    {
     "name": "stdout",
     "output_type": "stream",
     "text": [
      "Bootstrapping ...\n",
      "15.8314467156\n",
      "Hit again!\n",
      "Hit again!\n",
      "15.8275787652\n",
      "Hit again!\n",
      "Hit again!\n",
      "Hit again!\n",
      "Hit again!\n",
      "Hit 5 times, done!\n",
      "14.4071861741\n",
      "14.0442440616\n",
      "Hit again!\n",
      "Hit again!\n",
      "Hit again!\n",
      "Hit again!\n",
      "Hit 5 times, done!\n",
      "11.640342503\n",
      "10.9427387007\n",
      "10.554796683\n",
      "9.67395108033\n",
      "9.64221565852\n",
      "9.59174479596\n",
      "Hit again!\n",
      "Hit again!\n",
      "9.58820062993\n",
      "Maximum number of iterations reached!\n",
      "13.7857962277\n",
      "13.4696483579\n",
      "13.2678516845\n",
      "13.2633030843\n",
      "13.2577319046\n",
      "13.2331391334\n",
      "Hit again!\n",
      "Hit again!\n",
      "Hit again!\n",
      "Hit again!\n",
      "Hit 5 times, done!\n",
      "15.8688139314\n",
      "15.1173639595\n",
      "14.873612863\n",
      "14.8501557391\n",
      "14.6131738048\n",
      "14.5642613977\n",
      "Hit again!\n",
      "Hit again!\n",
      "Hit again!\n",
      "Maximum number of iterations reached!\n",
      "11.5621775161\n",
      "11.418877157\n",
      "Hit again!\n",
      "Hit again!\n",
      "Hit again!\n",
      "Hit again!\n",
      "Hit 5 times, done!\n",
      "10.5691174763\n",
      "Hit again!\n",
      "Hit again!\n",
      "Hit again!\n",
      "Hit again!\n",
      "Hit 5 times, done!\n",
      "11.0412496902\n",
      "11.024678618\n",
      "Hit again!\n",
      "Hit again!\n",
      "Hit again!\n",
      "Hit again!\n",
      "Hit 5 times, done!\n",
      "11.3142484037\n",
      "11.3068402118\n",
      "11.2866180508\n",
      "11.24024061\n",
      "11.1595320737\n",
      "Hit again!\n",
      "Hit again!\n",
      "Hit again!\n",
      "Maximum number of iterations reached!\n",
      "13.896723034\n",
      "13.5764738975\n",
      "13.5310064015\n",
      "13.4028834125\n",
      "13.3983507674\n",
      "13.3634141296\n",
      "Hit again!\n",
      "Hit again!\n",
      "13.0329001579\n",
      "Maximum number of iterations reached!\n",
      "13.5908975607\n",
      "13.2796464244\n",
      "12.9127911142\n",
      "Hit again!\n",
      "Hit again!\n",
      "Hit again!\n",
      "Hit again!\n",
      "Hit 5 times, done!\n",
      "9.84018875597\n",
      "9.68915289019\n",
      "Hit again!\n",
      "Hit again!\n",
      "Hit again!\n",
      "Hit again!\n",
      "Hit 5 times, done!\n",
      "13.0751031049\n",
      "12.0960318105\n",
      "Hit again!\n",
      "Hit again!\n",
      "Hit again!\n",
      "Hit again!\n",
      "Hit 5 times, done!\n",
      "15.2032318294\n",
      "15.059187646\n",
      "Hit again!\n",
      "14.9704236705\n",
      "14.962581517\n",
      "Hit again!\n",
      "Maximum number of iterations reached!\n",
      "14.128612957\n",
      "14.0465622553\n",
      "14.0192240855\n",
      "Hit again!\n",
      "13.9866071316\n",
      "Hit again!\n",
      "Maximum number of iterations reached!\n",
      "15.3055777041\n",
      "14.695933533\n",
      "13.7051526761\n",
      "12.5567883485\n",
      "Hit again!\n",
      "Hit again!\n",
      "Hit again!\n",
      "Hit again!\n",
      "Hit 5 times, done!\n",
      "Hit again!\n",
      "Hit again!\n",
      "13.0460940667\n",
      "Hit again!\n",
      "Hit again!\n",
      "13.0315461241\n",
      "Hit again!\n",
      "Hit again!\n",
      "Maximum number of iterations reached!\n",
      "Hit again!\n",
      "Hit again!\n",
      "Hit again!\n",
      "Hit again!\n",
      "Hit 5 times, done!\n",
      "Hit again!\n",
      "13.2372752309\n",
      "Maximum number of iterations reached!\n",
      "16.9361449958\n",
      "15.9920871489\n",
      "15.4566027345\n",
      "15.3843907906\n",
      "15.3502842771\n",
      "Hit again!\n",
      "Hit again!\n",
      "Maximum number of iterations reached!\n",
      "14.1433853627\n",
      "14.0514111143\n",
      "14.0061219882\n",
      "13.8596185329\n",
      "13.8332942753\n",
      "Hit again!\n",
      "Maximum number of iterations reached!\n",
      "13.4207075991\n",
      "13.4027762962\n",
      "13.081987547\n",
      "13.0610820383\n",
      "12.8078359419\n",
      "12.6303803899\n",
      "12.3313277981\n",
      "12.2981442147\n",
      "Hit again!\n",
      "Hit again!\n",
      "Hit again!\n",
      "Hit again!\n",
      "Hit 5 times, done!\n",
      "16.095871418\n",
      "15.0949234625\n",
      "14.3195804631\n",
      "14.1024301449\n",
      "13.9388530466\n",
      "13.9255739395\n",
      "Hit again!\n",
      "Hit again!\n",
      "Hit again!\n",
      "Hit again!\n",
      "Hit 5 times, done!\n",
      "11.3264777146\n",
      "11.0594904622\n",
      "10.8277898871\n",
      "10.7377064018\n",
      "Hit again!\n",
      "Hit again!\n",
      "Hit again!\n",
      "Hit again!\n",
      "Hit 5 times, done!\n",
      "13.0756031969\n",
      "12.9363179099\n",
      "Hit again!\n",
      "12.920576907\n",
      "12.885844402\n",
      "Hit again!\n",
      "Hit again!\n",
      "Hit again!\n",
      "Hit again!\n",
      "Hit 5 times, done!\n"
     ]
    }
   ],
   "source": [
    "[beta_repl, betaHet_repl] = gfe_bootstrap(balacedAcemoglou[['fhpolrigaug']], balacedAcemoglou[['L_fhpolrigaug', 'L_lrgdpch']], None, 90, 7, 4, nRepl = 25)"
   ]
  },
  {
   "cell_type": "code",
   "execution_count": 16,
   "metadata": {
    "collapsed": false
   },
   "outputs": [
    {
     "name": "stdout",
     "output_type": "stream",
     "text": [
      "[array([ 0.43754652,  0.06829181]), array([ 0.65122146,  0.07410908]), array([ 0.68327155,  0.05981486]), array([ 0.3938823 ,  0.07988744]), array([ 0.27679255,  0.09705437]), array([ 0.51308375,  0.08615478]), array([ 0.35564524,  0.08115757]), array([ 0.60459791,  0.06836322]), array([ 0.63395988,  0.06331737]), array([ 0.3417199 ,  0.06711446]), array([ 0.44771937,  0.06623351]), array([ 0.57162907,  0.06567004]), array([ 0.55990822,  0.06316032]), array([ 0.4203452 ,  0.10595018]), array([ 0.27545537,  0.10883961]), array([ 0.56040283,  0.07169289]), array([ 0.39861833,  0.08311492]), array([ 0.31653033,  0.07934309]), array([ 0.48108255,  0.07683516]), array([ 0.48790678,  0.06832696]), array([ 0.50504074,  0.08423809]), array([ 0.61908363,  0.06789525]), array([ 0.37548286,  0.05971315]), array([ 0.60742877,  0.06430878]), array([ 0.62376285,  0.06749017])]\n",
      "[array([], shape=(4L, 0L), dtype=float64), array([], shape=(4L, 0L), dtype=float64), array([], shape=(4L, 0L), dtype=float64), array([], shape=(4L, 0L), dtype=float64), array([], shape=(4L, 0L), dtype=float64), array([], shape=(4L, 0L), dtype=float64), array([], shape=(4L, 0L), dtype=float64), array([], shape=(4L, 0L), dtype=float64), array([], shape=(4L, 0L), dtype=float64), array([], shape=(4L, 0L), dtype=float64), array([], shape=(4L, 0L), dtype=float64), array([], shape=(4L, 0L), dtype=float64), array([], shape=(4L, 0L), dtype=float64), array([], shape=(4L, 0L), dtype=float64), array([], shape=(4L, 0L), dtype=float64), array([], shape=(4L, 0L), dtype=float64), array([], shape=(4L, 0L), dtype=float64), array([], shape=(4L, 0L), dtype=float64), array([], shape=(4L, 0L), dtype=float64), array([], shape=(4L, 0L), dtype=float64), array([], shape=(4L, 0L), dtype=float64), array([], shape=(4L, 0L), dtype=float64), array([], shape=(4L, 0L), dtype=float64), array([], shape=(4L, 0L), dtype=float64), array([], shape=(4L, 0L), dtype=float64)]\n"
     ]
    }
   ],
   "source": [
    "print beta_repl\n",
    "print betaHet_repl"
   ]
  },
  {
   "cell_type": "code",
   "execution_count": 17,
   "metadata": {
    "collapsed": false
   },
   "outputs": [
    {
     "name": "stdout",
     "output_type": "stream",
     "text": [
      "[0.43754651679262713, 0.65122145510824603, 0.68327155041536813, 0.3938823026260943, 0.27679254647303253, 0.51308375228575276, 0.35564523932016046, 0.60459791112173278, 0.63395987861331571, 0.3417199014652762, 0.44771936865830847, 0.57162906933823898, 0.5599082151903424, 0.42034520346564647, 0.27545536539110499, 0.56040282965340094, 0.39861832831546662, 0.31653032760654154, 0.48108254893474311, 0.48790678350298405, 0.50504073626755597, 0.61908362851700272, 0.37548285786997276, 0.60742876600768014, 0.62376284862795173]\n"
     ]
    },
    {
     "data": {
      "text/plain": [
       "0.12317727480484413"
      ]
     },
     "execution_count": 17,
     "metadata": {},
     "output_type": "execute_result"
    }
   ],
   "source": [
    "# method 1\n",
    "L_fhpolrigaug = []\n",
    "\n",
    "for repl in beta_repl:\n",
    "    L_fhpolrigaug.append(repl[0])\n",
    "\n",
    "print L_fhpolrigaug\n",
    "mean = sum(L_fhpolrigaug)/len(L_fhpolrigaug)\n",
    "np.sqrt(sum(pow(L_fhpolrigaug-mean,2))/(len(L_fhpolrigaug)-1))\n"
   ]
  },
  {
   "cell_type": "code",
   "execution_count": 18,
   "metadata": {
    "collapsed": false
   },
   "outputs": [
    {
     "data": {
      "text/plain": [
       "0.22462479245253522"
      ]
     },
     "execution_count": 18,
     "metadata": {},
     "output_type": "execute_result"
    }
   ],
   "source": [
    "# method 2\n",
    "np.sqrt(sum(pow(L_fhpolrigaug-beta[0],2))/(len(L_fhpolrigaug)-1))"
   ]
  },
  {
   "cell_type": "markdown",
   "metadata": {},
   "source": [
    "## Heterogeneous Coefficients"
   ]
  },
  {
   "cell_type": "code",
   "execution_count": 19,
   "metadata": {
    "collapsed": false
   },
   "outputs": [
    {
     "name": "stdout",
     "output_type": "stream",
     "text": [
      "15.519897028\n",
      "14.3672923504\n",
      "14.2988017593\n",
      "14.2935779906\n",
      "14.2322425464\n",
      "14.2247140883\n",
      "14.2235862557\n",
      "14.1785474122\n",
      "Maximum number of iterations reached!\n"
     ]
    }
   ],
   "source": [
    "[beta_B, betaHet_B, alpha_B, fun_B, ass_B] = gfe(balacedAcemoglou[['fhpolrigaug']], balacedAcemoglou[['L_fhpolrigaug']], balacedAcemoglou[['L_lrgdpch']], 90, 7, 4)"
   ]
  },
  {
   "cell_type": "code",
   "execution_count": 20,
   "metadata": {
    "collapsed": false
   },
   "outputs": [
    {
     "name": "stdout",
     "output_type": "stream",
     "text": [
      "[ 0.28823114]\n",
      "[[ 0.0470621 ]\n",
      " [ 0.08228078]\n",
      " [ 0.0871284 ]\n",
      " [ 0.10295646]]\n"
     ]
    }
   ],
   "source": [
    "# compare with table S.XVI of BM - looks pretty good!\n",
    "print beta_B\n",
    "print betaHet_B"
   ]
  },
  {
   "cell_type": "code",
   "execution_count": null,
   "metadata": {
    "collapsed": true
   },
   "outputs": [],
   "source": []
  },
  {
   "cell_type": "code",
   "execution_count": null,
   "metadata": {
    "collapsed": true
   },
   "outputs": [],
   "source": []
  }
 ],
 "metadata": {
  "kernelspec": {
   "display_name": "Python 2",
   "language": "python",
   "name": "python2"
  },
  "language_info": {
   "codemirror_mode": {
    "name": "ipython",
    "version": 2
   },
   "file_extension": ".py",
   "mimetype": "text/x-python",
   "name": "python",
   "nbconvert_exporter": "python",
   "pygments_lexer": "ipython2",
   "version": "2.7.13"
  }
 },
 "nbformat": 4,
 "nbformat_minor": 2
}
